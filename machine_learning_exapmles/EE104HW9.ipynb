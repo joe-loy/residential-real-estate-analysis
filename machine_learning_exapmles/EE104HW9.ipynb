{
 "cells": [
  {
   "cell_type": "code",
   "execution_count": 8,
   "metadata": {},
   "outputs": [
    {
     "data": {
      "text/plain": [
       "750×2 Array{Float64,2}:\n",
       "  1.46891    0.641155 \n",
       "  0.152478  -1.13645  \n",
       " -0.154458   1.1254   \n",
       " -1.63377   -0.730167 \n",
       " -1.76303   -1.43932  \n",
       "  0.114878  -1.03053  \n",
       "  0.816086   0.539652 \n",
       " -0.120205   0.396813 \n",
       "  0.850176   0.133664 \n",
       " -1.93339   -1.64838  \n",
       "  0.880001   0.207469 \n",
       " -1.44234   -0.889097 \n",
       " -0.823596  -0.529588 \n",
       "  ⋮                   \n",
       "  1.35895    0.516693 \n",
       "  0.221058   3.2788   \n",
       " -0.582232   1.25458  \n",
       " -1.69374   -1.08454  \n",
       "  0.948762   0.151755 \n",
       " -0.359042   0.0761012\n",
       "  1.69274    0.227768 \n",
       " -1.76919   -1.48937  \n",
       " -0.353427   1.15769  \n",
       " -0.989329  -0.378932 \n",
       "  0.91958    0.0536509\n",
       " -1.65571   -1.01005  "
      ]
     },
     "execution_count": 8,
     "metadata": {},
     "output_type": "execute_result"
    }
   ],
   "source": [
    "# EE104 HW9\n",
    "using LinearAlgebra\n",
    "using JSON\n",
    "include(\"readclassjson.jl\")\n",
    "\n",
    "data1 = readclassjson(\"rain_or_shine.json\")\n",
    "data2 = readclassjson(\"impute_clusters.json\")\n",
    "X1 = data1[\"preds_and_true\"]\n",
    "U_train = data2[\"U_train\"]\n",
    "U_test = data2[\"U_test\"]"
   ]
  },
  {
   "cell_type": "code",
   "execution_count": 18,
   "metadata": {},
   "outputs": [
    {
     "name": "stdout",
     "output_type": "stream",
     "text": [
      "ll1 = 51.8674099138741\n",
      "ll2 = 64.17732607457395\n"
     ]
    },
    {
     "data": {
      "text/plain": [
       "64.17732607457395"
      ]
     },
     "execution_count": 18,
     "metadata": {},
     "output_type": "execute_result"
    }
   ],
   "source": [
    "# Question 1\n",
    "\n",
    "l1 = zeros(size(X1)[1])\n",
    "l2 = zeros(size(X1)[1])\n",
    "\n",
    "for i = 1:size(X1)[1]\n",
    "    if X1[i, 3] == 1\n",
    "        l1[i] = X1[i, 1]\n",
    "        l2[i] = X1[i, 2]\n",
    "    else\n",
    "        l1[i] = 1 - X1[i, 1]\n",
    "        l2[i] = 1 - X1[i, 2]\n",
    "    end\n",
    "end\n",
    "\n",
    "ll1 = sum(l1) \n",
    "ll2 = sum(l2) \n",
    "\n",
    "@show ll1\n",
    "@show ll2\n",
    "\n",
    "# We see that the second classifier performs better, since it has a higher likelihood"
   ]
  },
  {
   "cell_type": "code",
   "execution_count": 19,
   "metadata": {},
   "outputs": [
    {
     "data": {
      "text/plain": [
       "k_means (generic function with 1 method)"
      ]
     },
     "execution_count": 19,
     "metadata": {},
     "output_type": "execute_result"
    }
   ],
   "source": [
    "# Question 2\n",
    "\n",
    "function square_I(x, theta)\n",
    "    return norm(x - theta)\n",
    "end\n",
    "\n",
    "function abslt_I(x, theta)\n",
    "    return norm(x - theta, 1)\n",
    "end\n",
    "\n",
    "function k_means(k, x, thetas)\n",
    "    min = norm(x - thetas[1,:])\n",
    "    for i = 2:k\n",
    "        if norm(x - thetas[i,:]) < min\n",
    "           min = norm(x - thetas[i,:])\n",
    "        end\n",
    "    end\n",
    "    return min\n",
    "end"
   ]
  },
  {
   "cell_type": "code",
   "execution_count": null,
   "metadata": {},
   "outputs": [],
   "source": []
  }
 ],
 "metadata": {
  "kernelspec": {
   "display_name": "Julia 1.3.1",
   "language": "julia",
   "name": "julia-1.3"
  },
  "language_info": {
   "file_extension": ".jl",
   "mimetype": "application/julia",
   "name": "julia",
   "version": "1.3.1"
  }
 },
 "nbformat": 4,
 "nbformat_minor": 2
}
