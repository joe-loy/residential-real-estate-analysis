{
 "cells": [
  {
   "cell_type": "code",
   "execution_count": 1,
   "metadata": {},
   "outputs": [
    {
     "data": {
      "text/plain": [
       "60×4 Array{Float64,2}:\n",
       "  0.866546  -1.28893     0.2079       0.673225 \n",
       " -1.80303   -0.98377    -1.17554     31.8833   \n",
       "  0.313382   0.384075    0.639474     0.387165 \n",
       " -0.645597   1.25317     1.06623     -3.83126  \n",
       "  0.363839   1.4047      0.27181     15.2844   \n",
       "  2.12999   -0.268714    0.56861     15.6798   \n",
       "  0.378599  -0.577509    0.0175294    0.191602 \n",
       " -1.24361   -0.88967    -1.18121     15.7772   \n",
       "  0.75606   -0.601307   -0.61301     -1.74961  \n",
       "  0.542924   0.673145   -1.14139      0.890509 \n",
       "  1.4405    -0.239126    1.34126     -1.79595  \n",
       " -2.63399   -0.367349   -0.213456    44.8091   \n",
       " -1.28258   -0.580084   -0.739417    14.5982   \n",
       "  ⋮                                            \n",
       " -1.00886    0.16946     0.72822      0.889756 \n",
       "  0.998677   0.208334    0.974627     2.54017  \n",
       " -0.629805   0.197449   -1.69487    -13.4237   \n",
       "  1.73517   -1.77497     0.117025    -0.0572531\n",
       "  0.644293   1.0301     -0.543327    12.5482   \n",
       "  0.550852  -0.307905   -0.0677981    0.286118 \n",
       "  0.111043   0.959969    0.392368     4.96385  \n",
       "  0.211121   1.19352    -0.715603     7.28227  \n",
       " -1.52489    0.841173    0.426637     1.44057  \n",
       "  1.52318    1.01257     1.3884      22.4869   \n",
       " -0.165283   0.0542678   1.63028    -13.2428   \n",
       " -1.22006   -1.46672     3.12432    -12.6794   "
      ]
     },
     "execution_count": 1,
     "metadata": {},
     "output_type": "execute_result"
    }
   ],
   "source": [
    "using Random\n",
    "using JSON\n",
    "include(\"readclassjson.jl\")\n",
    "\n",
    "data = readclassjson(\"feat_valid.json\")\n",
    "\n",
    "# Question 3\n",
    "# Read in data from JSON file into U and v.\n",
    "U = data[\"U\"]\n",
    "v = data[\"v\"]\n",
    "raw_data_embed = [U v]\n",
    "\n",
    "# Split data into training and test sets\n",
    "indices = shuffle(1:300)\n",
    "train = raw_data_embed[indices[1:240] , 1:4]\n",
    "test = raw_data_embed[indices[241:end], 1:4]\n"
   ]
  },
  {
   "cell_type": "code",
   "execution_count": 2,
   "metadata": {},
   "outputs": [
    {
     "data": {
      "text/plain": [
       "softknn (generic function with 1 method)"
      ]
     },
     "execution_count": 2,
     "metadata": {},
     "output_type": "execute_result"
    }
   ],
   "source": [
    "# Implement softest nearest neighbor\n",
    "function softknn(X, Y, x, rho)\n",
    "    n = size(X)[1]\n",
    "    exp_weights = [exp(-sum((X[i,:] .- x).^2)/rho^2) for i=1:n]\n",
    "    w = exp_weights / sum(exp_weights) #find weights\n",
    "    y_hat = sum(w .* Y, dims=1) #weighted combination of Y\n",
    "    return y_hat\n",
    "end"
   ]
  },
  {
   "cell_type": "code",
   "execution_count": 3,
   "metadata": {},
   "outputs": [
    {
     "name": "stdout",
     "output_type": "stream",
     "text": [
      "tr_rms1 = 0.47976217690814615\n",
      "te_rms1 = 6.596192968565304\n",
      "\" \" = \" \"\n",
      "tr_rms2 = 1.9512720822475083\n",
      "te_rms2 = 5.015807488109162\n",
      "\" \" = \" \"\n",
      "tr_rms3 = 7.011468665901686\n",
      "te_rms3 = 8.352773079367262\n",
      "\" \" = \" \"\n",
      "tr_rms4 = 13.399421774836787\n",
      "te_rms4 = 12.898930707836534\n"
     ]
    },
    {
     "data": {
      "text/plain": [
       "12.898930707836534"
      ]
     },
     "execution_count": 3,
     "metadata": {},
     "output_type": "execute_result"
    }
   ],
   "source": [
    "using LinearAlgebra\n",
    "# Test softest nearest neighbor\n",
    "# Question 3a\n",
    "tr_e1 = []\n",
    "tr_e2 = []\n",
    "tr_e3 = []\n",
    "tr_e4 = []\n",
    "# Calculate training errors\n",
    "for j in 1:240\n",
    "    tr_sk1 = softknn(train[:, 1:3], train[:, 4], train[j, 1:3], .25) \n",
    "    tr_sk2 = softknn(train[:, 1:3], train[:, 4], train[j, 1:3], .5) \n",
    "    tr_sk3 = softknn(train[:, 1:3], train[:, 4], train[j, 1:3], 1)\n",
    "    tr_sk4 = softknn(train[:, 1:3], train[:, 4], train[j, 1:3], 2)\n",
    "    push!(tr_e1, (tr_sk1[1] - train[j, 4]))\n",
    "    push!(tr_e2, (tr_sk2[1] - train[j, 4]))\n",
    "    push!(tr_e3, (tr_sk3[1] - train[j, 4]))\n",
    "    push!(tr_e4, (tr_sk4[1] - train[j, 4]))\n",
    "end\n",
    "\n",
    "tr_rms1 = norm(tr_e1)/ sqrt(length(tr_e1))\n",
    "tr_rms2 = norm(tr_e2)/ sqrt(length(tr_e2))\n",
    "tr_rms3 = norm(tr_e3)/ sqrt(length(tr_e3))\n",
    "tr_rms4 = norm(tr_e4)/ sqrt(length(tr_e4))\n",
    "\n",
    "\n",
    "\n",
    "te_e1 = []\n",
    "te_e2 = []\n",
    "te_e3 = []\n",
    "te_e4 = []\n",
    "# Calculate test errors\n",
    "for i in 1:60\n",
    "    te_sk1 = softknn(train[:, 1:3], train[:, 4], test[i, 1:3], .25) \n",
    "    te_sk2 = softknn(train[:, 1:3], train[:, 4], test[i, 1:3], .5) \n",
    "    te_sk3 = softknn(train[:, 1:3], train[:, 4], test[i, 1:3], 1)\n",
    "    te_sk4 = softknn(train[:, 1:3], train[:, 4], test[i, 1:3], 2)\n",
    "    push!(te_e1, (te_sk1[1] - test[i, 4]))\n",
    "    push!(te_e2, (te_sk2[1] - test[i, 4]))\n",
    "    push!(te_e3, (te_sk3[1] - test[i, 4]))\n",
    "    push!(te_e4, (te_sk4[1] - test[i, 4]))\n",
    "end\n",
    "\n",
    "te_rms1 = norm(te_e1)/ sqrt(length(te_e1))\n",
    "te_rms2 = norm(te_e2)/ sqrt(length(te_e2))\n",
    "te_rms3 = norm(te_e3)/ sqrt(length(te_e3))\n",
    "te_rms4 = norm(te_e4)/ sqrt(length(te_e4))\n",
    "# Report values for train rms errors for rho = [.25, .5, 1, 2]\n",
    "# Report values for test rms errors for rho = [.25, .5, 1, 2]\n",
    "@show tr_rms1\n",
    "@show te_rms1\n",
    "@show \" \"\n",
    "\n",
    "@show tr_rms2\n",
    "@show te_rms2\n",
    "@show \" \"\n",
    "\n",
    "@show tr_rms3\n",
    "@show te_rms3\n",
    "@show \" \"\n",
    "\n",
    "@show tr_rms4\n",
    "@show te_rms4\n"
   ]
  },
  {
   "cell_type": "code",
   "execution_count": 4,
   "metadata": {},
   "outputs": [
    {
     "name": "stdout",
     "output_type": "stream",
     "text": [
      "new_tr_rms1 = 0.13077815282588331\n",
      "new_te_rms1 = 6.656834670475699\n",
      "\" \" = \" \"\n",
      "new_tr_rms2 = 0.4634914522532791\n",
      "new_te_rms2 = 6.367705188953499\n",
      "\" \" = \" \"\n",
      "new_tr_rms3 = 1.9348265034806758\n",
      "new_te_rms3 = 5.942271715281465\n",
      "\" \" = \" \"\n",
      "new_tr_rms4 = 5.477932600280858\n",
      "new_te_rms4 = 8.19429761391233\n"
     ]
    },
    {
     "data": {
      "text/plain": [
       "8.19429761391233"
      ]
     },
     "execution_count": 4,
     "metadata": {},
     "output_type": "execute_result"
    }
   ],
   "source": [
    "# Question 3b\n",
    "# Test soft knn using new embedding function \n",
    "phi(U) = [U U[:,1].*U[:,2] U[:,2].*U[:,3] U[:,1].*U[:,3] U.^2]\n",
    "new_embed = [phi(U) v]\n",
    "new_train = new_embed[indices[1:240] , 1:10]\n",
    "new_test = new_embed[indices[241:end], 1:10]\n",
    "new_tr_e1 = []\n",
    "new_tr_e2 = []\n",
    "new_tr_e3 = []\n",
    "new_tr_e4 = []\n",
    "# Calculate new training errors\n",
    "for k in 1:240\n",
    "    new_tr_sk1 = softknn(new_train[:, 1:9], new_train[:, 10], new_train[k, 1:9], .25) \n",
    "    new_tr_sk2 = softknn(new_train[:, 1:9], new_train[:, 10], new_train[k, 1:9], .5) \n",
    "    new_tr_sk3 = softknn(new_train[:, 1:9], new_train[:, 10], new_train[k, 1:9], 1)\n",
    "    new_tr_sk4 = softknn(new_train[:, 1:9], new_train[:, 10], new_train[k, 1:9], 2)\n",
    "    push!(new_tr_e1, (new_tr_sk1[1] - new_train[k, 10]))\n",
    "    push!(new_tr_e2, (new_tr_sk2[1] - new_train[k, 10]))\n",
    "    push!(new_tr_e3, (new_tr_sk3[1] - new_train[k, 10]))\n",
    "    push!(new_tr_e4, (new_tr_sk4[1] - new_train[k, 10]))\n",
    "end\n",
    "\n",
    "new_tr_rms1 = norm(new_tr_e1)/ sqrt(length(new_tr_e1))\n",
    "new_tr_rms2 = norm(new_tr_e2)/ sqrt(length(new_tr_e2))\n",
    "new_tr_rms3 = norm(new_tr_e3)/ sqrt(length(new_tr_e3))\n",
    "new_tr_rms4 = norm(new_tr_e4)/ sqrt(length(new_tr_e4))\n",
    "\n",
    "\n",
    "\n",
    "new_te_e1 = []\n",
    "new_te_e2 = []\n",
    "new_te_e3 = []\n",
    "new_te_e4 = []\n",
    "# Calculate test errors\n",
    "for l in 1:60\n",
    "    new_te_sk1 = softknn(new_train[:, 1:9], new_train[:, 10], new_test[l, 1:9], .25) \n",
    "    new_te_sk2 = softknn(new_train[:, 1:9], new_train[:, 10], new_test[l, 1:9], .5) \n",
    "    new_te_sk3 = softknn(new_train[:, 1:9], new_train[:, 10], new_test[l, 1:9], 1)\n",
    "    new_te_sk4 = softknn(new_train[:, 1:9], new_train[:, 10], new_test[l, 1:9], 2)\n",
    "    push!(new_te_e1, (new_te_sk1[1] - new_test[l, 10]))\n",
    "    push!(new_te_e2, (new_te_sk2[1] - new_test[l, 10]))\n",
    "    push!(new_te_e3, (new_te_sk3[1] - new_test[l, 10]))\n",
    "    push!(new_te_e4, (new_te_sk4[1] - new_test[l, 10]))\n",
    "end\n",
    "\n",
    "new_te_rms1 = norm(new_te_e1)/ sqrt(length(new_te_e1))\n",
    "new_te_rms2 = norm(new_te_e2)/ sqrt(length(new_te_e2))\n",
    "new_te_rms3 = norm(new_te_e3)/ sqrt(length(new_te_e3))\n",
    "new_te_rms4 = norm(new_te_e4)/ sqrt(length(new_te_e4))\n",
    "# Report values for train rms errors for rho = [.25, .5, 1, 2]\n",
    "# Report values for test rms errors for rho = [.25, .5, 1, 2]\n",
    "@show new_tr_rms1\n",
    "@show new_te_rms1\n",
    "@show \" \"\n",
    "\n",
    "@show new_tr_rms2\n",
    "@show new_te_rms2\n",
    "@show \" \"\n",
    "\n",
    "@show new_tr_rms3\n",
    "@show new_te_rms3\n",
    "@show \" \"\n",
    "\n",
    "@show new_tr_rms4\n",
    "@show new_te_rms4"
   ]
  },
  {
   "cell_type": "code",
   "execution_count": null,
   "metadata": {},
   "outputs": [],
   "source": [
    "# Question 3c\n",
    "# From the following tests, we see that the best performing \n",
    "# predictor is the k nearest neighbor algorithm with k = 2,\n",
    "# which gives a test error of 5.015807488109162"
   ]
  },
  {
   "cell_type": "code",
   "execution_count": null,
   "metadata": {},
   "outputs": [],
   "source": []
  }
 ],
 "metadata": {
  "kernelspec": {
   "display_name": "Julia 1.3.1",
   "language": "julia",
   "name": "julia-1.3"
  },
  "language_info": {
   "file_extension": ".jl",
   "mimetype": "application/julia",
   "name": "julia",
   "version": "1.3.1"
  }
 },
 "nbformat": 4,
 "nbformat_minor": 2
}
