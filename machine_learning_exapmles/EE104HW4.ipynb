{
 "cells": [
  {
   "cell_type": "code",
   "execution_count": 22,
   "metadata": {},
   "outputs": [
    {
     "data": {
      "text/plain": [
       "100-element Array{Float64,1}:\n",
       "  0.14939226927547766 \n",
       "  1.5800862402343645  \n",
       "  0.6129576542811928  \n",
       " -1.088374804734564   \n",
       " -1.3159200275642549  \n",
       "  0.8678154756616203  \n",
       " -0.39077721081326167 \n",
       "  0.1513274800585327  \n",
       " -0.050118769587636613\n",
       "  2.357159584143187   \n",
       " -0.5219639154651682  \n",
       "  0.44767779495063065 \n",
       " -1.8104352639919683  \n",
       "  ⋮                   \n",
       "  2.623338911801641   \n",
       "  0.791527423732082   \n",
       " -2.4060807079969138  \n",
       "  0.24027786808511864 \n",
       "  0.12040400930402073 \n",
       "  1.311274132432773   \n",
       " -1.8696598319605893  \n",
       " -0.21627222106151    \n",
       " -1.357064145885513   \n",
       "  2.679780085815154   \n",
       "  0.36909012522840884 \n",
       "  0.466996245882322   "
      ]
     },
     "execution_count": 22,
     "metadata": {},
     "output_type": "execute_result"
    }
   ],
   "source": [
    "include(\"readclassjson.jl\")\n",
    "\n",
    "data1 = readclassjson(\"constant_predictor.json\")\n",
    "y = data1[\"y\"]"
   ]
  },
  {
   "cell_type": "code",
   "execution_count": 23,
   "metadata": {},
   "outputs": [
    {
     "name": "stdout",
     "output_type": "stream",
     "text": [
      "theta_quad = 0.6860678388851398"
     ]
    },
    {
     "data": {
      "text/plain": [
       "0.6860678388851398"
      ]
     },
     "execution_count": 23,
     "metadata": {},
     "output_type": "execute_result"
    },
    {
     "name": "stdout",
     "output_type": "stream",
     "text": [
      "\n"
     ]
    }
   ],
   "source": [
    "# Question 2\n",
    "# Quadratic Loss, constant predictor\n",
    "theta_quad = sum(y) / length(y)\n",
    "@show theta_quad"
   ]
  },
  {
   "cell_type": "code",
   "execution_count": 24,
   "metadata": {},
   "outputs": [
    {
     "name": "stdout",
     "output_type": "stream",
     "text": [
      "theta_abs = 0.45733702041647634\n"
     ]
    },
    {
     "data": {
      "text/plain": [
       "0.45733702041647634"
      ]
     },
     "execution_count": 24,
     "metadata": {},
     "output_type": "execute_result"
    }
   ],
   "source": [
    "# Absolute Loss, constant predictor\n",
    "sorted_y = sort(y)\n",
    "med1 = sorted_y[convert(Int, length(y)/2)]\n",
    "med2 = sorted_y[convert(Int, (length(y)/2) + 1)]\n",
    "theta_abs = (med1 + med2) / 2\n",
    "@show theta_abs"
   ]
  },
  {
   "cell_type": "code",
   "execution_count": 25,
   "metadata": {},
   "outputs": [
    {
     "name": "stdout",
     "output_type": "stream",
     "text": [
      "theta_quart1 = -0.4327502216499973\n"
     ]
    },
    {
     "data": {
      "text/plain": [
       "-0.4327502216499973"
      ]
     },
     "execution_count": 25,
     "metadata": {},
     "output_type": "execute_result"
    }
   ],
   "source": [
    "# Titlted Loss, tao = .25,  constant predictor\n",
    "tao1 = 0.25\n",
    "quart1a = sorted_y[convert(Int, length(y) / 4)]\n",
    "quart1b = sorted_y[convert(Int, (length(y) / 4) + 1)]\n",
    "theta_quart1 = (quart1a + quart1b) / 2\n",
    "@show theta_quart1\n",
    "\n"
   ]
  },
  {
   "cell_type": "code",
   "execution_count": 26,
   "metadata": {},
   "outputs": [
    {
     "name": "stdout",
     "output_type": "stream",
     "text": [
      "theta_quart3 = 1.7425551932489234\n"
     ]
    },
    {
     "data": {
      "text/plain": [
       "1.7425551932489234"
      ]
     },
     "execution_count": 26,
     "metadata": {},
     "output_type": "execute_result"
    }
   ],
   "source": [
    "# Titlted Loss, tao = .75,  constant predictor\n",
    "tao2 = 0.75\n",
    "quart3a = sorted_y[convert(Int, length(y) * 3 / 4)]\n",
    "quart3b = sorted_y[convert(Int, (length(y)  * 3 / 4) + 1)]\n",
    "theta_quart3 = (quart3a + quart3b) / 2\n",
    "@show theta_quart3"
   ]
  },
  {
   "cell_type": "code",
   "execution_count": 27,
   "metadata": {},
   "outputs": [
    {
     "data": {
      "text/plain": [
       "tiltedLoss (generic function with 1 method)"
      ]
     },
     "execution_count": 27,
     "metadata": {},
     "output_type": "execute_result"
    }
   ],
   "source": [
    "function tiltedLoss(y_hat, y, tao)\n",
    "    if (y_hat - y) < 0\n",
    "        return -tao * (y_hat - y)\n",
    "    else\n",
    "        return (1-tao) * (y_hat - y)\n",
    "    end\n",
    "end"
   ]
  },
  {
   "cell_type": "code",
   "execution_count": 28,
   "metadata": {},
   "outputs": [],
   "source": [
    "quadLoss_mean = zeros(1, length(y))\n",
    "quadLoss_med = zeros(1, length(y))\n",
    "quadLoss_quart1 = zeros(1, length(y))\n",
    "quadLoss_quart3 = zeros(1, length(y))\n",
    "\n",
    "absLoss_mean = zeros(1, length(y))\n",
    "absLoss_med = zeros(1, length(y))\n",
    "absLoss_quart1 = zeros(1, length(y))\n",
    "absLoss_quart3 = zeros(1, length(y))\n",
    "\n",
    "\n",
    "tilt1Loss_mean = zeros(1, length(y))\n",
    "tilt1Loss_med = zeros(1, length(y))\n",
    "tilt1Loss_quart1 = zeros(1, length(y))\n",
    "tilt1Loss_quart3 = zeros(1, length(y))\n",
    "\n",
    "tilt2Loss_mean = zeros(1, length(y))\n",
    "tilt2Loss_med = zeros(1, length(y))\n",
    "tilt2Loss_quart1 = zeros(1, length(y))\n",
    "tilt2Loss_quart3 = zeros(1, length(y))\n",
    "\n",
    "for i = 1:length(y)\n",
    "    # Quadratic Losses\n",
    "    quadLoss_mean[i] = (theta_quad - y[i])^2\n",
    "    quadLoss_med[i] = (theta_abs - y[i])^2\n",
    "    quadLoss_quart1[i] = (theta_quart1 - y[i])^2\n",
    "    quadLoss_quart3[i] = (theta_quart3 - y[i])^2\n",
    "    \n",
    "    # Abs Losses\n",
    "    absLoss_mean[i] = abs(theta_quad - y[i])\n",
    "    absLoss_med[i] = abs(theta_abs - y[i])\n",
    "    absLoss_quart1[i] = abs(theta_quart1 - y[i])\n",
    "    absLoss_quart3[i] = abs(theta_quart3 - y[i])\n",
    "   \n",
    "    # Tilted Losses Tao = 0.\n",
    "    tilt1Loss_mean[i] = tiltedLoss(theta_quad, y[i], tao1)\n",
    "    tilt1Loss_med[i] = tiltedLoss(theta_abs, y[i], tao1)\n",
    "    tilt1Loss_quart1[i] = tiltedLoss(theta_quart1, y[i], tao1)\n",
    "    tilt1Loss_quart3[i] = tiltedLoss(theta_quart3, y[i], tao1)\n",
    "    \n",
    "    # Tilted Losses Tao = 0.\n",
    "    tilt2Loss_mean[i] = tiltedLoss(theta_quad, y[i], tao2)\n",
    "    tilt2Loss_med[i] = tiltedLoss(theta_abs, y[i], tao2)\n",
    "    tilt2Loss_quart1[i] = tiltedLoss(theta_quart1, y[i], tao2)\n",
    "    tilt2Loss_quart3[i] = tiltedLoss(theta_quart3, y[i], tao2)\n",
    "end\n",
    "\n"
   ]
  },
  {
   "cell_type": "code",
   "execution_count": 29,
   "metadata": {},
   "outputs": [
    {
     "name": "stdout",
     "output_type": "stream",
     "text": [
      "table = Any[\"Quad Loss\" \"Abs Loss\" \"Til Loss,Tao = .25\" \"Tilt Loss,Tao = .75\"; 3.171033661087579 3.2233514484049226 4.422787513667184 4.287199191018165; 1.37687497205103 1.361862851061303 1.5744029105974358 1.7256950740694577; 0.688437486025515 0.6237487209134858 0.5074969401649336 1.126969375625675; 0.6884374860255151 0.7381141301478173 1.0669059704325021 0.5987256984437831]\n"
     ]
    },
    {
     "data": {
      "text/plain": [
       "5×4 Array{Any,2}:\n",
       "  \"Quad Loss\"   \"Abs Loss\"   \"Til Loss,Tao = .25\"   \"Tilt Loss,Tao = .75\"\n",
       " 3.17103       3.22335      4.42279                4.2872                \n",
       " 1.37687       1.36186      1.5744                 1.7257                \n",
       " 0.688437      0.623749     0.507497               1.12697               \n",
       " 0.688437      0.738114     1.06691                0.598726              "
      ]
     },
     "execution_count": 29,
     "metadata": {},
     "output_type": "execute_result"
    }
   ],
   "source": [
    "# Quadratic losses for each predictor\n",
    "QL_QP = sum(quadLoss_mean) / length(quadLoss_mean)\n",
    "QL_AP = sum(quadLoss_med) / length(quadLoss_med)\n",
    "QL_Q1P = sum(quadLoss_quart1) / length(quadLoss_quart1)\n",
    "QL_Q3P = sum(quadLoss_quart3) / length(quadLoss_quart3)\n",
    "\n",
    "# Absolute losses for each predictor\n",
    "AL_QP = sum(absLoss_mean) / length(absLoss_mean)\n",
    "AL_AP = sum(absLoss_med) / length(absLoss_med)\n",
    "AL_Q1P = sum(absLoss_quart1) / length(absLoss_quart1)\n",
    "AL_Q3P = sum(absLoss_quart3) / length(absLoss_quart3)\n",
    "\n",
    "# Tilted loss for each predictor, tao = .25\n",
    "Q1L_QP = sum(tilt1Loss_mean) / length(tilt1Loss_mean)\n",
    "Q1L_AP = sum(tilt1Loss_med) / length(tilt1Loss_med)\n",
    "Q1L_Q1P = sum(tilt1Loss_quart1) / length(tilt1Loss_quart1)\n",
    "Q1L_Q3P = sum(tilt1Loss_quart3) / length(tilt1Loss_quart3)\n",
    "\n",
    "# Tilted loss for each predictor, tao = .75\n",
    "Q3L_QP = sum(tilt2Loss_mean) / length(tilt2Loss_mean)\n",
    "Q3L_AP = sum(tilt2Loss_med) / length(tilt2Loss_med)\n",
    "Q3L_Q1P = sum(tilt2Loss_quart1) / length(tilt2Loss_quart1)\n",
    "Q3L_Q3P = sum(tilt2Loss_quart3) / length(tilt2Loss_quart3)\n",
    "\n",
    "table = [\"Quad Loss\" \"Abs Loss\" \"Til Loss,Tao = .25\" \"Tilt Loss,Tao = .75\";\n",
    "                QL_QP        QL_AP                 QL_Q1P                     QL_Q3P         ;\n",
    "                AL_QP        AL_AP                 AL_Q1P                     AL_Q3P         ;\n",
    "                Q1L_QP        Q1L_AP                 Q1L_Q1P                     Q1L_Q3P     ;\n",
    "                Q3L_QP        Q3L_AP                 Q3L_Q1P                     Q3L_Q3P     ;]\n",
    "\n",
    "@show table"
   ]
  },
  {
   "cell_type": "code",
   "execution_count": 30,
   "metadata": {},
   "outputs": [
    {
     "name": "stdout",
     "output_type": "stream",
     "text": [
      "┌\u001b[0m────────────────────\u001b[0m┬\u001b[0m────────────────────\u001b[0m┬\u001b[0m────────────────────\u001b[0m┬\u001b[0m──────────────\u001b[0m ⋯\n",
      "│\u001b[0m\u001b[1m          Quad Loss \u001b[0m│\u001b[0m\u001b[1m           Abs Loss \u001b[0m│\u001b[0m\u001b[1m Til Loss,Tao = .25 \u001b[0m│\u001b[0m\u001b[1m Tilt Loss,Tao\u001b[0m ⋯\n",
      "├\u001b[0m────────────────────\u001b[0m┼\u001b[0m────────────────────\u001b[0m┼\u001b[0m────────────────────\u001b[0m┼\u001b[0m──────────────\u001b[0m ⋯\n",
      "│\u001b[0m  3.171033661087579 \u001b[0m│\u001b[0m 3.2233514484049226 \u001b[0m│\u001b[0m  4.422787513667184 \u001b[0m│\u001b[0m   4.287199191\u001b[0m ⋯\n",
      "│\u001b[0m   1.37687497205103 \u001b[0m│\u001b[0m  1.361862851061303 \u001b[0m│\u001b[0m 1.5744029105974358 \u001b[0m│\u001b[0m  1.7256950740\u001b[0m ⋯\n",
      "│\u001b[0m  0.688437486025515 \u001b[0m│\u001b[0m 0.6237487209134858 \u001b[0m│\u001b[0m 0.5074969401649336 \u001b[0m│\u001b[0m   1.126969375\u001b[0m ⋯\n",
      "│\u001b[0m 0.6884374860255151 \u001b[0m│\u001b[0m 0.7381141301478173 \u001b[0m│\u001b[0m 1.0669059704325021 \u001b[0m│\u001b[0m  0.5987256984\u001b[0m ⋯\n",
      "└\u001b[0m────────────────────\u001b[0m┴\u001b[0m────────────────────\u001b[0m┴\u001b[0m────────────────────\u001b[0m┴\u001b[0m──────────────\u001b[0m ⋯\n"
     ]
    }
   ],
   "source": [
    "using PrettyTables\n",
    "pretty_table(table[2:5 , :], table[1, :])"
   ]
  },
  {
   "cell_type": "code",
   "execution_count": 31,
   "metadata": {},
   "outputs": [
    {
     "data": {
      "text/plain": [
       "250-element Array{Float64,1}:\n",
       "  1.7204127668177487 \n",
       " -1.3549759292493215 \n",
       "  4.530924231742739  \n",
       " -0.7759758549010882 \n",
       " -1.1267665846388213 \n",
       " -2.1092109190314545 \n",
       " -1.2125486470187687 \n",
       "  2.2333872226755083 \n",
       "  2.3337230281536834 \n",
       " -1.9672924255975532 \n",
       " -0.12183561486256227\n",
       " -0.3384176654560345 \n",
       "  1.0051236713175908 \n",
       "  ⋮                  \n",
       " -2.4715102952153183 \n",
       "  2.5441658935373255 \n",
       " -1.7768406884779093 \n",
       " -0.8380565076648329 \n",
       " -0.06739386130991289\n",
       "  3.8136347265963435 \n",
       "  2.4507781536564797 \n",
       " -0.4733452998950703 \n",
       "  4.144330122610916  \n",
       " -3.0312305741535153 \n",
       " -3.774234981700489  \n",
       "  5.177749088480776  "
      ]
     },
     "execution_count": 31,
     "metadata": {},
     "output_type": "execute_result"
    }
   ],
   "source": [
    "# Question 3\n",
    "data2 = readclassjson(\"outlier_rem.json\")\n",
    "U_train = data2[\"U_train\"]\n",
    "v_train = data2[\"v_train\"]\n",
    "U_test = data2[\"U_test\"]\n",
    "v_test = data2[\"v_test\"]"
   ]
  },
  {
   "cell_type": "code",
   "execution_count": 53,
   "metadata": {},
   "outputs": [],
   "source": [
    "predictors = zeros(50, 10)\n",
    "\n",
    "for i = 1:50\n",
    "    theta = U_train \\ v_train\n",
    "    predictors[i, :] = theta\n",
    "    \n",
    "    largest = ((U_train[1, :] .* theta) .- v_train[1])\n",
    "    toRemove = 1\n",
    "    for j = 2:size(v_train)[1]\n",
    "        if ((U_train[j, :] .* theta) .- v_train[j]) > largest\n",
    "            toRemove = j\n",
    "        end\n",
    "    end\n",
    "    \n",
    "    U_train = U_train[setdiff(1:end, toRemove), :]\n",
    "    v_train = v_train[setdiff(1:end, toRemove)]\n",
    "    \n",
    "end"
   ]
  },
  {
   "cell_type": "code",
   "execution_count": 63,
   "metadata": {},
   "outputs": [
    {
     "name": "stdout",
     "output_type": "stream",
     "text": [
      "errors = [2.9261885360953994 2.926185449185691 2.9262746752072006 2.9106807126275123 2.9108526547666322 2.9107957007074283 2.911271627364635 2.9107097686140917 2.9107539861402096 2.910845911721126 2.911151114785464 2.910492458266774 2.910528606249262 2.9104599135050915 2.911789674110145 2.911960417945851 2.9123407299164734 2.91326444722128 2.9131281509456612 2.912950969171773 2.9129461239472887 2.9127209506717393 2.913163949942776 2.913441022361058 2.9132343074804514 2.913170664735028 2.912444246075334 2.907421273409076 2.9074247091592955 2.907423630056595 2.907423520860547 2.9074322433578086 2.9074216453021235 2.9074262414480154 2.907424463252733 2.9074233359168336 2.9074225830370484 2.9074255412363126 2.9074222735695123 2.9074219750919315 2.9074518523992587 2.9074667989990672 2.907574188706417 2.907611043622923 2.907706554422388 2.907634743063791 2.907724957341612 2.907725046819383 2.907627521494561 2.9076058844552892]\n"
     ]
    },
    {
     "data": {
      "text/plain": [
       "1×50 Array{Float64,2}:\n",
       " 2.92619  2.92619  2.92627  2.91068  …  2.90772  2.90773  2.90763  2.90761"
      ]
     },
     "execution_count": 63,
     "metadata": {},
     "output_type": "execute_result"
    }
   ],
   "source": [
    "using LinearAlgebra\n",
    "errors = zeros(1, 50)\n",
    "\n",
    "for k = 1:50\n",
    "    v_predict = U_test .* predictors[k]\n",
    "    errors[k] = norm(v_predict .- v_test) / sqrt(length(v_predict))\n",
    "end\n",
    "@show errors"
   ]
  },
  {
   "cell_type": "code",
   "execution_count": 81,
   "metadata": {},
   "outputs": [
    {
     "data": {
      "image/svg+xml": [
       "<?xml version=\"1.0\" encoding=\"utf-8\"?>\n",
       "<svg xmlns=\"http://www.w3.org/2000/svg\" xmlns:xlink=\"http://www.w3.org/1999/xlink\" width=\"600\" height=\"400\" viewBox=\"0 0 2400 1600\">\n",
       "<defs>\n",
       "  <clipPath id=\"clip2400\">\n",
       "    <rect x=\"0\" y=\"0\" width=\"2400\" height=\"1600\"/>\n",
       "  </clipPath>\n",
       "</defs>\n",
       "<path clip-path=\"url(#clip2400)\" d=\"\n",
       "M0 1600 L2400 1600 L2400 0 L0 0  Z\n",
       "  \" fill=\"#ffffff\" fill-rule=\"evenodd\" fill-opacity=\"1\"/>\n",
       "<defs>\n",
       "  <clipPath id=\"clip2401\">\n",
       "    <rect x=\"480\" y=\"0\" width=\"1681\" height=\"1600\"/>\n",
       "  </clipPath>\n",
       "</defs>\n",
       "<path clip-path=\"url(#clip2400)\" d=\"\n",
       "M269.279 1425.62 L2352.76 1425.62 L2352.76 121.675 L269.279 121.675  Z\n",
       "  \" fill=\"#ffffff\" fill-rule=\"evenodd\" fill-opacity=\"1\"/>\n",
       "<defs>\n",
       "  <clipPath id=\"clip2402\">\n",
       "    <rect x=\"269\" y=\"121\" width=\"2084\" height=\"1305\"/>\n",
       "  </clipPath>\n",
       "</defs>\n",
       "<polyline clip-path=\"url(#clip2402)\" style=\"stroke:#000000; stroke-width:2; stroke-opacity:0.1; fill:none\" points=\"\n",
       "  328.245,1425.62 328.245,121.675 \n",
       "  \"/>\n",
       "<polyline clip-path=\"url(#clip2402)\" style=\"stroke:#000000; stroke-width:2; stroke-opacity:0.1; fill:none\" points=\"\n",
       "  729.377,1425.62 729.377,121.675 \n",
       "  \"/>\n",
       "<polyline clip-path=\"url(#clip2402)\" style=\"stroke:#000000; stroke-width:2; stroke-opacity:0.1; fill:none\" points=\"\n",
       "  1130.51,1425.62 1130.51,121.675 \n",
       "  \"/>\n",
       "<polyline clip-path=\"url(#clip2402)\" style=\"stroke:#000000; stroke-width:2; stroke-opacity:0.1; fill:none\" points=\"\n",
       "  1531.64,1425.62 1531.64,121.675 \n",
       "  \"/>\n",
       "<polyline clip-path=\"url(#clip2402)\" style=\"stroke:#000000; stroke-width:2; stroke-opacity:0.1; fill:none\" points=\"\n",
       "  1932.77,1425.62 1932.77,121.675 \n",
       "  \"/>\n",
       "<polyline clip-path=\"url(#clip2402)\" style=\"stroke:#000000; stroke-width:2; stroke-opacity:0.1; fill:none\" points=\"\n",
       "  2333.9,1425.62 2333.9,121.675 \n",
       "  \"/>\n",
       "<polyline clip-path=\"url(#clip2402)\" style=\"stroke:#000000; stroke-width:2; stroke-opacity:0.1; fill:none\" points=\"\n",
       "  269.279,1220.46 2352.76,1220.46 \n",
       "  \"/>\n",
       "<polyline clip-path=\"url(#clip2402)\" style=\"stroke:#000000; stroke-width:2; stroke-opacity:0.1; fill:none\" points=\"\n",
       "  269.279,894.222 2352.76,894.222 \n",
       "  \"/>\n",
       "<polyline clip-path=\"url(#clip2402)\" style=\"stroke:#000000; stroke-width:2; stroke-opacity:0.1; fill:none\" points=\"\n",
       "  269.279,567.985 2352.76,567.985 \n",
       "  \"/>\n",
       "<polyline clip-path=\"url(#clip2402)\" style=\"stroke:#000000; stroke-width:2; stroke-opacity:0.1; fill:none\" points=\"\n",
       "  269.279,241.748 2352.76,241.748 \n",
       "  \"/>\n",
       "<polyline clip-path=\"url(#clip2400)\" style=\"stroke:#000000; stroke-width:4; stroke-opacity:1; fill:none\" points=\"\n",
       "  269.279,1425.62 2352.76,1425.62 \n",
       "  \"/>\n",
       "<polyline clip-path=\"url(#clip2400)\" style=\"stroke:#000000; stroke-width:4; stroke-opacity:1; fill:none\" points=\"\n",
       "  269.279,1425.62 269.279,121.675 \n",
       "  \"/>\n",
       "<polyline clip-path=\"url(#clip2400)\" style=\"stroke:#000000; stroke-width:4; stroke-opacity:1; fill:none\" points=\"\n",
       "  328.245,1425.62 328.245,1409.97 \n",
       "  \"/>\n",
       "<polyline clip-path=\"url(#clip2400)\" style=\"stroke:#000000; stroke-width:4; stroke-opacity:1; fill:none\" points=\"\n",
       "  729.377,1425.62 729.377,1409.97 \n",
       "  \"/>\n",
       "<polyline clip-path=\"url(#clip2400)\" style=\"stroke:#000000; stroke-width:4; stroke-opacity:1; fill:none\" points=\"\n",
       "  1130.51,1425.62 1130.51,1409.97 \n",
       "  \"/>\n",
       "<polyline clip-path=\"url(#clip2400)\" style=\"stroke:#000000; stroke-width:4; stroke-opacity:1; fill:none\" points=\"\n",
       "  1531.64,1425.62 1531.64,1409.97 \n",
       "  \"/>\n",
       "<polyline clip-path=\"url(#clip2400)\" style=\"stroke:#000000; stroke-width:4; stroke-opacity:1; fill:none\" points=\"\n",
       "  1932.77,1425.62 1932.77,1409.97 \n",
       "  \"/>\n",
       "<polyline clip-path=\"url(#clip2400)\" style=\"stroke:#000000; stroke-width:4; stroke-opacity:1; fill:none\" points=\"\n",
       "  2333.9,1425.62 2333.9,1409.97 \n",
       "  \"/>\n",
       "<polyline clip-path=\"url(#clip2400)\" style=\"stroke:#000000; stroke-width:4; stroke-opacity:1; fill:none\" points=\"\n",
       "  269.279,1220.46 294.28,1220.46 \n",
       "  \"/>\n",
       "<polyline clip-path=\"url(#clip2400)\" style=\"stroke:#000000; stroke-width:4; stroke-opacity:1; fill:none\" points=\"\n",
       "  269.279,894.222 294.28,894.222 \n",
       "  \"/>\n",
       "<polyline clip-path=\"url(#clip2400)\" style=\"stroke:#000000; stroke-width:4; stroke-opacity:1; fill:none\" points=\"\n",
       "  269.279,567.985 294.28,567.985 \n",
       "  \"/>\n",
       "<polyline clip-path=\"url(#clip2400)\" style=\"stroke:#000000; stroke-width:4; stroke-opacity:1; fill:none\" points=\"\n",
       "  269.279,241.748 294.28,241.748 \n",
       "  \"/>\n",
       "<g clip-path=\"url(#clip2400)\">\n",
       "<text style=\"fill:#000000; fill-opacity:1; font-family:Arial,Helvetica Neue,Helvetica,sans-serif; font-size:48px; text-anchor:middle;\" transform=\"rotate(0, 328.245, 1479.62)\" x=\"328.245\" y=\"1479.62\">0</text>\n",
       "</g>\n",
       "<g clip-path=\"url(#clip2400)\">\n",
       "<text style=\"fill:#000000; fill-opacity:1; font-family:Arial,Helvetica Neue,Helvetica,sans-serif; font-size:48px; text-anchor:middle;\" transform=\"rotate(0, 729.377, 1479.62)\" x=\"729.377\" y=\"1479.62\">10</text>\n",
       "</g>\n",
       "<g clip-path=\"url(#clip2400)\">\n",
       "<text style=\"fill:#000000; fill-opacity:1; font-family:Arial,Helvetica Neue,Helvetica,sans-serif; font-size:48px; text-anchor:middle;\" transform=\"rotate(0, 1130.51, 1479.62)\" x=\"1130.51\" y=\"1479.62\">20</text>\n",
       "</g>\n",
       "<g clip-path=\"url(#clip2400)\">\n",
       "<text style=\"fill:#000000; fill-opacity:1; font-family:Arial,Helvetica Neue,Helvetica,sans-serif; font-size:48px; text-anchor:middle;\" transform=\"rotate(0, 1531.64, 1479.62)\" x=\"1531.64\" y=\"1479.62\">30</text>\n",
       "</g>\n",
       "<g clip-path=\"url(#clip2400)\">\n",
       "<text style=\"fill:#000000; fill-opacity:1; font-family:Arial,Helvetica Neue,Helvetica,sans-serif; font-size:48px; text-anchor:middle;\" transform=\"rotate(0, 1932.77, 1479.62)\" x=\"1932.77\" y=\"1479.62\">40</text>\n",
       "</g>\n",
       "<g clip-path=\"url(#clip2400)\">\n",
       "<text style=\"fill:#000000; fill-opacity:1; font-family:Arial,Helvetica Neue,Helvetica,sans-serif; font-size:48px; text-anchor:middle;\" transform=\"rotate(0, 2333.9, 1479.62)\" x=\"2333.9\" y=\"1479.62\">50</text>\n",
       "</g>\n",
       "<g clip-path=\"url(#clip2400)\">\n",
       "<text style=\"fill:#000000; fill-opacity:1; font-family:Arial,Helvetica Neue,Helvetica,sans-serif; font-size:48px; text-anchor:end;\" transform=\"rotate(0, 245.279, 1237.96)\" x=\"245.279\" y=\"1237.96\">2.910</text>\n",
       "</g>\n",
       "<g clip-path=\"url(#clip2400)\">\n",
       "<text style=\"fill:#000000; fill-opacity:1; font-family:Arial,Helvetica Neue,Helvetica,sans-serif; font-size:48px; text-anchor:end;\" transform=\"rotate(0, 245.279, 911.722)\" x=\"245.279\" y=\"911.722\">2.915</text>\n",
       "</g>\n",
       "<g clip-path=\"url(#clip2400)\">\n",
       "<text style=\"fill:#000000; fill-opacity:1; font-family:Arial,Helvetica Neue,Helvetica,sans-serif; font-size:48px; text-anchor:end;\" transform=\"rotate(0, 245.279, 585.485)\" x=\"245.279\" y=\"585.485\">2.920</text>\n",
       "</g>\n",
       "<g clip-path=\"url(#clip2400)\">\n",
       "<text style=\"fill:#000000; fill-opacity:1; font-family:Arial,Helvetica Neue,Helvetica,sans-serif; font-size:48px; text-anchor:end;\" transform=\"rotate(0, 245.279, 259.248)\" x=\"245.279\" y=\"259.248\">2.925</text>\n",
       "</g>\n",
       "<g clip-path=\"url(#clip2400)\">\n",
       "<text style=\"fill:#000000; fill-opacity:1; font-family:Arial,Helvetica Neue,Helvetica,sans-serif; font-size:84px; text-anchor:middle;\" transform=\"rotate(0, 1311.02, 73.2)\" x=\"1311.02\" y=\"73.2\">RMS error vs # Points removed</text>\n",
       "</g>\n",
       "<g clip-path=\"url(#clip2400)\">\n",
       "<text style=\"fill:#000000; fill-opacity:1; font-family:Arial,Helvetica Neue,Helvetica,sans-serif; font-size:66px; text-anchor:middle;\" transform=\"rotate(0, 1311.02, 1559.48)\" x=\"1311.02\" y=\"1559.48\"># Points removed</text>\n",
       "</g>\n",
       "<g clip-path=\"url(#clip2400)\">\n",
       "<text style=\"fill:#000000; fill-opacity:1; font-family:Arial,Helvetica Neue,Helvetica,sans-serif; font-size:66px; text-anchor:middle;\" transform=\"rotate(-90, 89.2861, 773.647)\" x=\"89.2861\" y=\"773.647\">RMS error</text>\n",
       "</g>\n",
       "<circle clip-path=\"url(#clip2402)\" cx=\"328.245\" cy=\"164.2\" r=\"14\" fill=\"#009af9\" fill-rule=\"evenodd\" fill-opacity=\"1\" stroke=\"#000000\" stroke-opacity=\"1\" stroke-width=\"3.2\"/>\n",
       "<circle clip-path=\"url(#clip2402)\" cx=\"368.358\" cy=\"164.401\" r=\"14\" fill=\"#e26f46\" fill-rule=\"evenodd\" fill-opacity=\"1\" stroke=\"#000000\" stroke-opacity=\"1\" stroke-width=\"3.2\"/>\n",
       "<circle clip-path=\"url(#clip2402)\" cx=\"408.471\" cy=\"158.579\" r=\"14\" fill=\"#3da44d\" fill-rule=\"evenodd\" fill-opacity=\"1\" stroke=\"#000000\" stroke-opacity=\"1\" stroke-width=\"3.2\"/>\n",
       "<circle clip-path=\"url(#clip2402)\" cx=\"448.585\" cy=\"1176.04\" r=\"14\" fill=\"#c271d2\" fill-rule=\"evenodd\" fill-opacity=\"1\" stroke=\"#000000\" stroke-opacity=\"1\" stroke-width=\"3.2\"/>\n",
       "<circle clip-path=\"url(#clip2402)\" cx=\"488.698\" cy=\"1164.83\" r=\"14\" fill=\"#ac8d18\" fill-rule=\"evenodd\" fill-opacity=\"1\" stroke=\"#000000\" stroke-opacity=\"1\" stroke-width=\"3.2\"/>\n",
       "<circle clip-path=\"url(#clip2402)\" cx=\"528.811\" cy=\"1168.54\" r=\"14\" fill=\"#00a9ad\" fill-rule=\"evenodd\" fill-opacity=\"1\" stroke=\"#000000\" stroke-opacity=\"1\" stroke-width=\"3.2\"/>\n",
       "<circle clip-path=\"url(#clip2402)\" cx=\"568.924\" cy=\"1137.49\" r=\"14\" fill=\"#ed5d92\" fill-rule=\"evenodd\" fill-opacity=\"1\" stroke=\"#000000\" stroke-opacity=\"1\" stroke-width=\"3.2\"/>\n",
       "<circle clip-path=\"url(#clip2402)\" cx=\"609.037\" cy=\"1174.15\" r=\"14\" fill=\"#c68125\" fill-rule=\"evenodd\" fill-opacity=\"1\" stroke=\"#000000\" stroke-opacity=\"1\" stroke-width=\"3.2\"/>\n",
       "<circle clip-path=\"url(#clip2402)\" cx=\"649.15\" cy=\"1171.26\" r=\"14\" fill=\"#00a98d\" fill-rule=\"evenodd\" fill-opacity=\"1\" stroke=\"#000000\" stroke-opacity=\"1\" stroke-width=\"3.2\"/>\n",
       "<circle clip-path=\"url(#clip2402)\" cx=\"689.263\" cy=\"1165.27\" r=\"14\" fill=\"#8e971d\" fill-rule=\"evenodd\" fill-opacity=\"1\" stroke=\"#000000\" stroke-opacity=\"1\" stroke-width=\"3.2\"/>\n",
       "<circle clip-path=\"url(#clip2402)\" cx=\"729.377\" cy=\"1145.35\" r=\"14\" fill=\"#00a8cb\" fill-rule=\"evenodd\" fill-opacity=\"1\" stroke=\"#000000\" stroke-opacity=\"1\" stroke-width=\"3.2\"/>\n",
       "<circle clip-path=\"url(#clip2402)\" cx=\"769.49\" cy=\"1188.33\" r=\"14\" fill=\"#9b7fe8\" fill-rule=\"evenodd\" fill-opacity=\"1\" stroke=\"#000000\" stroke-opacity=\"1\" stroke-width=\"3.2\"/>\n",
       "<circle clip-path=\"url(#clip2402)\" cx=\"809.603\" cy=\"1185.97\" r=\"14\" fill=\"#608cf6\" fill-rule=\"evenodd\" fill-opacity=\"1\" stroke=\"#000000\" stroke-opacity=\"1\" stroke-width=\"3.2\"/>\n",
       "<circle clip-path=\"url(#clip2402)\" cx=\"849.716\" cy=\"1190.45\" r=\"14\" fill=\"#f05f73\" fill-rule=\"evenodd\" fill-opacity=\"1\" stroke=\"#000000\" stroke-opacity=\"1\" stroke-width=\"3.2\"/>\n",
       "<circle clip-path=\"url(#clip2402)\" cx=\"889.829\" cy=\"1103.69\" r=\"14\" fill=\"#dd64b5\" fill-rule=\"evenodd\" fill-opacity=\"1\" stroke=\"#000000\" stroke-opacity=\"1\" stroke-width=\"3.2\"/>\n",
       "<circle clip-path=\"url(#clip2402)\" cx=\"929.942\" cy=\"1092.55\" r=\"14\" fill=\"#6b9e32\" fill-rule=\"evenodd\" fill-opacity=\"1\" stroke=\"#000000\" stroke-opacity=\"1\" stroke-width=\"3.2\"/>\n",
       "<circle clip-path=\"url(#clip2402)\" cx=\"970.056\" cy=\"1067.73\" r=\"14\" fill=\"#718c69\" fill-rule=\"evenodd\" fill-opacity=\"1\" stroke=\"#000000\" stroke-opacity=\"1\" stroke-width=\"3.2\"/>\n",
       "<circle clip-path=\"url(#clip2402)\" cx=\"1010.17\" cy=\"1007.46\" r=\"14\" fill=\"#47988b\" fill-rule=\"evenodd\" fill-opacity=\"1\" stroke=\"#000000\" stroke-opacity=\"1\" stroke-width=\"3.2\"/>\n",
       "<circle clip-path=\"url(#clip2402)\" cx=\"1050.28\" cy=\"1016.36\" r=\"14\" fill=\"#1ea68c\" fill-rule=\"evenodd\" fill-opacity=\"1\" stroke=\"#000000\" stroke-opacity=\"1\" stroke-width=\"3.2\"/>\n",
       "<circle clip-path=\"url(#clip2402)\" cx=\"1090.39\" cy=\"1027.92\" r=\"14\" fill=\"#af78dd\" fill-rule=\"evenodd\" fill-opacity=\"1\" stroke=\"#000000\" stroke-opacity=\"1\" stroke-width=\"3.2\"/>\n",
       "<circle clip-path=\"url(#clip2402)\" cx=\"1130.51\" cy=\"1028.23\" r=\"14\" fill=\"#868d87\" fill-rule=\"evenodd\" fill-opacity=\"1\" stroke=\"#000000\" stroke-opacity=\"1\" stroke-width=\"3.2\"/>\n",
       "<circle clip-path=\"url(#clip2402)\" cx=\"1170.62\" cy=\"1042.92\" r=\"14\" fill=\"#47a065\" fill-rule=\"evenodd\" fill-opacity=\"1\" stroke=\"#000000\" stroke-opacity=\"1\" stroke-width=\"3.2\"/>\n",
       "<circle clip-path=\"url(#clip2402)\" cx=\"1210.73\" cy=\"1014.02\" r=\"14\" fill=\"#7683af\" fill-rule=\"evenodd\" fill-opacity=\"1\" stroke=\"#000000\" stroke-opacity=\"1\" stroke-width=\"3.2\"/>\n",
       "<circle clip-path=\"url(#clip2402)\" cx=\"1250.85\" cy=\"995.942\" r=\"14\" fill=\"#b08086\" fill-rule=\"evenodd\" fill-opacity=\"1\" stroke=\"#000000\" stroke-opacity=\"1\" stroke-width=\"3.2\"/>\n",
       "<circle clip-path=\"url(#clip2402)\" cx=\"1290.96\" cy=\"1009.43\" r=\"14\" fill=\"#309ac1\" fill-rule=\"evenodd\" fill-opacity=\"1\" stroke=\"#000000\" stroke-opacity=\"1\" stroke-width=\"3.2\"/>\n",
       "<circle clip-path=\"url(#clip2402)\" cx=\"1331.07\" cy=\"1013.58\" r=\"14\" fill=\"#788490\" fill-rule=\"evenodd\" fill-opacity=\"1\" stroke=\"#000000\" stroke-opacity=\"1\" stroke-width=\"3.2\"/>\n",
       "<circle clip-path=\"url(#clip2402)\" cx=\"1371.19\" cy=\"1060.98\" r=\"14\" fill=\"#e561a4\" fill-rule=\"evenodd\" fill-opacity=\"1\" stroke=\"#000000\" stroke-opacity=\"1\" stroke-width=\"3.2\"/>\n",
       "<circle clip-path=\"url(#clip2402)\" cx=\"1411.3\" cy=\"1388.71\" r=\"14\" fill=\"#99902c\" fill-rule=\"evenodd\" fill-opacity=\"1\" stroke=\"#000000\" stroke-opacity=\"1\" stroke-width=\"3.2\"/>\n",
       "<circle clip-path=\"url(#clip2402)\" cx=\"1451.41\" cy=\"1388.49\" r=\"14\" fill=\"#389a7b\" fill-rule=\"evenodd\" fill-opacity=\"1\" stroke=\"#000000\" stroke-opacity=\"1\" stroke-width=\"3.2\"/>\n",
       "<circle clip-path=\"url(#clip2402)\" cx=\"1491.53\" cy=\"1388.56\" r=\"14\" fill=\"#d968a2\" fill-rule=\"evenodd\" fill-opacity=\"1\" stroke=\"#000000\" stroke-opacity=\"1\" stroke-width=\"3.2\"/>\n",
       "<circle clip-path=\"url(#clip2402)\" cx=\"1531.64\" cy=\"1388.57\" r=\"14\" fill=\"#009af9\" fill-rule=\"evenodd\" fill-opacity=\"1\" stroke=\"#000000\" stroke-opacity=\"1\" stroke-width=\"3.2\"/>\n",
       "<circle clip-path=\"url(#clip2402)\" cx=\"1571.75\" cy=\"1388\" r=\"14\" fill=\"#e26f46\" fill-rule=\"evenodd\" fill-opacity=\"1\" stroke=\"#000000\" stroke-opacity=\"1\" stroke-width=\"3.2\"/>\n",
       "<circle clip-path=\"url(#clip2402)\" cx=\"1611.87\" cy=\"1388.69\" r=\"14\" fill=\"#3da44d\" fill-rule=\"evenodd\" fill-opacity=\"1\" stroke=\"#000000\" stroke-opacity=\"1\" stroke-width=\"3.2\"/>\n",
       "<circle clip-path=\"url(#clip2402)\" cx=\"1651.98\" cy=\"1388.39\" r=\"14\" fill=\"#c271d2\" fill-rule=\"evenodd\" fill-opacity=\"1\" stroke=\"#000000\" stroke-opacity=\"1\" stroke-width=\"3.2\"/>\n",
       "<circle clip-path=\"url(#clip2402)\" cx=\"1692.09\" cy=\"1388.51\" r=\"14\" fill=\"#ac8d18\" fill-rule=\"evenodd\" fill-opacity=\"1\" stroke=\"#000000\" stroke-opacity=\"1\" stroke-width=\"3.2\"/>\n",
       "<circle clip-path=\"url(#clip2402)\" cx=\"1732.21\" cy=\"1388.58\" r=\"14\" fill=\"#00a9ad\" fill-rule=\"evenodd\" fill-opacity=\"1\" stroke=\"#000000\" stroke-opacity=\"1\" stroke-width=\"3.2\"/>\n",
       "<circle clip-path=\"url(#clip2402)\" cx=\"1772.32\" cy=\"1388.63\" r=\"14\" fill=\"#ed5d92\" fill-rule=\"evenodd\" fill-opacity=\"1\" stroke=\"#000000\" stroke-opacity=\"1\" stroke-width=\"3.2\"/>\n",
       "<circle clip-path=\"url(#clip2402)\" cx=\"1812.43\" cy=\"1388.44\" r=\"14\" fill=\"#c68125\" fill-rule=\"evenodd\" fill-opacity=\"1\" stroke=\"#000000\" stroke-opacity=\"1\" stroke-width=\"3.2\"/>\n",
       "<circle clip-path=\"url(#clip2402)\" cx=\"1852.54\" cy=\"1388.65\" r=\"14\" fill=\"#00a98d\" fill-rule=\"evenodd\" fill-opacity=\"1\" stroke=\"#000000\" stroke-opacity=\"1\" stroke-width=\"3.2\"/>\n",
       "<circle clip-path=\"url(#clip2402)\" cx=\"1892.66\" cy=\"1388.67\" r=\"14\" fill=\"#8e971d\" fill-rule=\"evenodd\" fill-opacity=\"1\" stroke=\"#000000\" stroke-opacity=\"1\" stroke-width=\"3.2\"/>\n",
       "<circle clip-path=\"url(#clip2402)\" cx=\"1932.77\" cy=\"1386.72\" r=\"14\" fill=\"#00a8cb\" fill-rule=\"evenodd\" fill-opacity=\"1\" stroke=\"#000000\" stroke-opacity=\"1\" stroke-width=\"3.2\"/>\n",
       "<circle clip-path=\"url(#clip2402)\" cx=\"1972.88\" cy=\"1385.74\" r=\"14\" fill=\"#9b7fe8\" fill-rule=\"evenodd\" fill-opacity=\"1\" stroke=\"#000000\" stroke-opacity=\"1\" stroke-width=\"3.2\"/>\n",
       "<circle clip-path=\"url(#clip2402)\" cx=\"2013\" cy=\"1378.74\" r=\"14\" fill=\"#608cf6\" fill-rule=\"evenodd\" fill-opacity=\"1\" stroke=\"#000000\" stroke-opacity=\"1\" stroke-width=\"3.2\"/>\n",
       "<circle clip-path=\"url(#clip2402)\" cx=\"2053.11\" cy=\"1376.33\" r=\"14\" fill=\"#f05f73\" fill-rule=\"evenodd\" fill-opacity=\"1\" stroke=\"#000000\" stroke-opacity=\"1\" stroke-width=\"3.2\"/>\n",
       "<circle clip-path=\"url(#clip2402)\" cx=\"2093.22\" cy=\"1370.1\" r=\"14\" fill=\"#dd64b5\" fill-rule=\"evenodd\" fill-opacity=\"1\" stroke=\"#000000\" stroke-opacity=\"1\" stroke-width=\"3.2\"/>\n",
       "<circle clip-path=\"url(#clip2402)\" cx=\"2133.34\" cy=\"1374.79\" r=\"14\" fill=\"#6b9e32\" fill-rule=\"evenodd\" fill-opacity=\"1\" stroke=\"#000000\" stroke-opacity=\"1\" stroke-width=\"3.2\"/>\n",
       "<circle clip-path=\"url(#clip2402)\" cx=\"2173.45\" cy=\"1368.9\" r=\"14\" fill=\"#718c69\" fill-rule=\"evenodd\" fill-opacity=\"1\" stroke=\"#000000\" stroke-opacity=\"1\" stroke-width=\"3.2\"/>\n",
       "<circle clip-path=\"url(#clip2402)\" cx=\"2213.56\" cy=\"1368.89\" r=\"14\" fill=\"#47988b\" fill-rule=\"evenodd\" fill-opacity=\"1\" stroke=\"#000000\" stroke-opacity=\"1\" stroke-width=\"3.2\"/>\n",
       "<circle clip-path=\"url(#clip2402)\" cx=\"2253.68\" cy=\"1375.26\" r=\"14\" fill=\"#1ea68c\" fill-rule=\"evenodd\" fill-opacity=\"1\" stroke=\"#000000\" stroke-opacity=\"1\" stroke-width=\"3.2\"/>\n",
       "<circle clip-path=\"url(#clip2402)\" cx=\"2293.79\" cy=\"1376.67\" r=\"14\" fill=\"#af78dd\" fill-rule=\"evenodd\" fill-opacity=\"1\" stroke=\"#000000\" stroke-opacity=\"1\" stroke-width=\"3.2\"/>\n",
       "<path clip-path=\"url(#clip2400)\" d=\"\n",
       "M1963.16 3289.68 L2280.76 3289.68 L2280.76 205.195 L1963.16 205.195  Z\n",
       "  \" fill=\"#ffffff\" fill-rule=\"evenodd\" fill-opacity=\"1\"/>\n",
       "<polyline clip-path=\"url(#clip2400)\" style=\"stroke:#000000; stroke-width:4; stroke-opacity:1; fill:none\" points=\"\n",
       "  1963.16,3289.68 2280.76,3289.68 2280.76,205.195 1963.16,205.195 1963.16,3289.68 \n",
       "  \"/>\n",
       "<circle clip-path=\"url(#clip2400)\" cx=\"2071.16\" cy=\"265.675\" r=\"21\" fill=\"#009af9\" fill-rule=\"evenodd\" fill-opacity=\"1\" stroke=\"#000000\" stroke-opacity=\"1\" stroke-width=\"3.2\"/>\n",
       "<g clip-path=\"url(#clip2400)\">\n",
       "<text style=\"fill:#000000; fill-opacity:1; font-family:Arial,Helvetica Neue,Helvetica,sans-serif; font-size:48px; text-anchor:start;\" transform=\"rotate(0, 2155.16, 283.175)\" x=\"2155.16\" y=\"283.175\">y1</text>\n",
       "</g>\n",
       "<circle clip-path=\"url(#clip2400)\" cx=\"2071.16\" cy=\"326.155\" r=\"21\" fill=\"#e26f46\" fill-rule=\"evenodd\" fill-opacity=\"1\" stroke=\"#000000\" stroke-opacity=\"1\" stroke-width=\"3.2\"/>\n",
       "<g clip-path=\"url(#clip2400)\">\n",
       "<text style=\"fill:#000000; fill-opacity:1; font-family:Arial,Helvetica Neue,Helvetica,sans-serif; font-size:48px; text-anchor:start;\" transform=\"rotate(0, 2155.16, 343.655)\" x=\"2155.16\" y=\"343.655\">y2</text>\n",
       "</g>\n",
       "<circle clip-path=\"url(#clip2400)\" cx=\"2071.16\" cy=\"386.635\" r=\"21\" fill=\"#3da44d\" fill-rule=\"evenodd\" fill-opacity=\"1\" stroke=\"#000000\" stroke-opacity=\"1\" stroke-width=\"3.2\"/>\n",
       "<g clip-path=\"url(#clip2400)\">\n",
       "<text style=\"fill:#000000; fill-opacity:1; font-family:Arial,Helvetica Neue,Helvetica,sans-serif; font-size:48px; text-anchor:start;\" transform=\"rotate(0, 2155.16, 404.135)\" x=\"2155.16\" y=\"404.135\">y3</text>\n",
       "</g>\n",
       "<circle clip-path=\"url(#clip2400)\" cx=\"2071.16\" cy=\"447.115\" r=\"21\" fill=\"#c271d2\" fill-rule=\"evenodd\" fill-opacity=\"1\" stroke=\"#000000\" stroke-opacity=\"1\" stroke-width=\"3.2\"/>\n",
       "<g clip-path=\"url(#clip2400)\">\n",
       "<text style=\"fill:#000000; fill-opacity:1; font-family:Arial,Helvetica Neue,Helvetica,sans-serif; font-size:48px; text-anchor:start;\" transform=\"rotate(0, 2155.16, 464.615)\" x=\"2155.16\" y=\"464.615\">y4</text>\n",
       "</g>\n",
       "<circle clip-path=\"url(#clip2400)\" cx=\"2071.16\" cy=\"507.595\" r=\"21\" fill=\"#ac8d18\" fill-rule=\"evenodd\" fill-opacity=\"1\" stroke=\"#000000\" stroke-opacity=\"1\" stroke-width=\"3.2\"/>\n",
       "<g clip-path=\"url(#clip2400)\">\n",
       "<text style=\"fill:#000000; fill-opacity:1; font-family:Arial,Helvetica Neue,Helvetica,sans-serif; font-size:48px; text-anchor:start;\" transform=\"rotate(0, 2155.16, 525.095)\" x=\"2155.16\" y=\"525.095\">y5</text>\n",
       "</g>\n",
       "<circle clip-path=\"url(#clip2400)\" cx=\"2071.16\" cy=\"568.075\" r=\"21\" fill=\"#00a9ad\" fill-rule=\"evenodd\" fill-opacity=\"1\" stroke=\"#000000\" stroke-opacity=\"1\" stroke-width=\"3.2\"/>\n",
       "<g clip-path=\"url(#clip2400)\">\n",
       "<text style=\"fill:#000000; fill-opacity:1; font-family:Arial,Helvetica Neue,Helvetica,sans-serif; font-size:48px; text-anchor:start;\" transform=\"rotate(0, 2155.16, 585.575)\" x=\"2155.16\" y=\"585.575\">y6</text>\n",
       "</g>\n",
       "<circle clip-path=\"url(#clip2400)\" cx=\"2071.16\" cy=\"628.555\" r=\"21\" fill=\"#ed5d92\" fill-rule=\"evenodd\" fill-opacity=\"1\" stroke=\"#000000\" stroke-opacity=\"1\" stroke-width=\"3.2\"/>\n",
       "<g clip-path=\"url(#clip2400)\">\n",
       "<text style=\"fill:#000000; fill-opacity:1; font-family:Arial,Helvetica Neue,Helvetica,sans-serif; font-size:48px; text-anchor:start;\" transform=\"rotate(0, 2155.16, 646.055)\" x=\"2155.16\" y=\"646.055\">y7</text>\n",
       "</g>\n",
       "<circle clip-path=\"url(#clip2400)\" cx=\"2071.16\" cy=\"689.035\" r=\"21\" fill=\"#c68125\" fill-rule=\"evenodd\" fill-opacity=\"1\" stroke=\"#000000\" stroke-opacity=\"1\" stroke-width=\"3.2\"/>\n",
       "<g clip-path=\"url(#clip2400)\">\n",
       "<text style=\"fill:#000000; fill-opacity:1; font-family:Arial,Helvetica Neue,Helvetica,sans-serif; font-size:48px; text-anchor:start;\" transform=\"rotate(0, 2155.16, 706.535)\" x=\"2155.16\" y=\"706.535\">y8</text>\n",
       "</g>\n",
       "<circle clip-path=\"url(#clip2400)\" cx=\"2071.16\" cy=\"749.515\" r=\"21\" fill=\"#00a98d\" fill-rule=\"evenodd\" fill-opacity=\"1\" stroke=\"#000000\" stroke-opacity=\"1\" stroke-width=\"3.2\"/>\n",
       "<g clip-path=\"url(#clip2400)\">\n",
       "<text style=\"fill:#000000; fill-opacity:1; font-family:Arial,Helvetica Neue,Helvetica,sans-serif; font-size:48px; text-anchor:start;\" transform=\"rotate(0, 2155.16, 767.015)\" x=\"2155.16\" y=\"767.015\">y9</text>\n",
       "</g>\n",
       "<circle clip-path=\"url(#clip2400)\" cx=\"2071.16\" cy=\"809.995\" r=\"21\" fill=\"#8e971d\" fill-rule=\"evenodd\" fill-opacity=\"1\" stroke=\"#000000\" stroke-opacity=\"1\" stroke-width=\"3.2\"/>\n",
       "<g clip-path=\"url(#clip2400)\">\n",
       "<text style=\"fill:#000000; fill-opacity:1; font-family:Arial,Helvetica Neue,Helvetica,sans-serif; font-size:48px; text-anchor:start;\" transform=\"rotate(0, 2155.16, 827.495)\" x=\"2155.16\" y=\"827.495\">y10</text>\n",
       "</g>\n",
       "<circle clip-path=\"url(#clip2400)\" cx=\"2071.16\" cy=\"870.475\" r=\"21\" fill=\"#00a8cb\" fill-rule=\"evenodd\" fill-opacity=\"1\" stroke=\"#000000\" stroke-opacity=\"1\" stroke-width=\"3.2\"/>\n",
       "<g clip-path=\"url(#clip2400)\">\n",
       "<text style=\"fill:#000000; fill-opacity:1; font-family:Arial,Helvetica Neue,Helvetica,sans-serif; font-size:48px; text-anchor:start;\" transform=\"rotate(0, 2155.16, 887.975)\" x=\"2155.16\" y=\"887.975\">y11</text>\n",
       "</g>\n",
       "<circle clip-path=\"url(#clip2400)\" cx=\"2071.16\" cy=\"930.955\" r=\"21\" fill=\"#9b7fe8\" fill-rule=\"evenodd\" fill-opacity=\"1\" stroke=\"#000000\" stroke-opacity=\"1\" stroke-width=\"3.2\"/>\n",
       "<g clip-path=\"url(#clip2400)\">\n",
       "<text style=\"fill:#000000; fill-opacity:1; font-family:Arial,Helvetica Neue,Helvetica,sans-serif; font-size:48px; text-anchor:start;\" transform=\"rotate(0, 2155.16, 948.455)\" x=\"2155.16\" y=\"948.455\">y12</text>\n",
       "</g>\n",
       "<circle clip-path=\"url(#clip2400)\" cx=\"2071.16\" cy=\"991.435\" r=\"21\" fill=\"#608cf6\" fill-rule=\"evenodd\" fill-opacity=\"1\" stroke=\"#000000\" stroke-opacity=\"1\" stroke-width=\"3.2\"/>\n",
       "<g clip-path=\"url(#clip2400)\">\n",
       "<text style=\"fill:#000000; fill-opacity:1; font-family:Arial,Helvetica Neue,Helvetica,sans-serif; font-size:48px; text-anchor:start;\" transform=\"rotate(0, 2155.16, 1008.94)\" x=\"2155.16\" y=\"1008.94\">y13</text>\n",
       "</g>\n",
       "<circle clip-path=\"url(#clip2400)\" cx=\"2071.16\" cy=\"1051.92\" r=\"21\" fill=\"#f05f73\" fill-rule=\"evenodd\" fill-opacity=\"1\" stroke=\"#000000\" stroke-opacity=\"1\" stroke-width=\"3.2\"/>\n",
       "<g clip-path=\"url(#clip2400)\">\n",
       "<text style=\"fill:#000000; fill-opacity:1; font-family:Arial,Helvetica Neue,Helvetica,sans-serif; font-size:48px; text-anchor:start;\" transform=\"rotate(0, 2155.16, 1069.42)\" x=\"2155.16\" y=\"1069.42\">y14</text>\n",
       "</g>\n",
       "<circle clip-path=\"url(#clip2400)\" cx=\"2071.16\" cy=\"1112.4\" r=\"21\" fill=\"#dd64b5\" fill-rule=\"evenodd\" fill-opacity=\"1\" stroke=\"#000000\" stroke-opacity=\"1\" stroke-width=\"3.2\"/>\n",
       "<g clip-path=\"url(#clip2400)\">\n",
       "<text style=\"fill:#000000; fill-opacity:1; font-family:Arial,Helvetica Neue,Helvetica,sans-serif; font-size:48px; text-anchor:start;\" transform=\"rotate(0, 2155.16, 1129.9)\" x=\"2155.16\" y=\"1129.9\">y15</text>\n",
       "</g>\n",
       "<circle clip-path=\"url(#clip2400)\" cx=\"2071.16\" cy=\"1172.88\" r=\"21\" fill=\"#6b9e32\" fill-rule=\"evenodd\" fill-opacity=\"1\" stroke=\"#000000\" stroke-opacity=\"1\" stroke-width=\"3.2\"/>\n",
       "<g clip-path=\"url(#clip2400)\">\n",
       "<text style=\"fill:#000000; fill-opacity:1; font-family:Arial,Helvetica Neue,Helvetica,sans-serif; font-size:48px; text-anchor:start;\" transform=\"rotate(0, 2155.16, 1190.38)\" x=\"2155.16\" y=\"1190.38\">y16</text>\n",
       "</g>\n",
       "<circle clip-path=\"url(#clip2400)\" cx=\"2071.16\" cy=\"1233.36\" r=\"21\" fill=\"#718c69\" fill-rule=\"evenodd\" fill-opacity=\"1\" stroke=\"#000000\" stroke-opacity=\"1\" stroke-width=\"3.2\"/>\n",
       "<g clip-path=\"url(#clip2400)\">\n",
       "<text style=\"fill:#000000; fill-opacity:1; font-family:Arial,Helvetica Neue,Helvetica,sans-serif; font-size:48px; text-anchor:start;\" transform=\"rotate(0, 2155.16, 1250.86)\" x=\"2155.16\" y=\"1250.86\">y17</text>\n",
       "</g>\n",
       "<circle clip-path=\"url(#clip2400)\" cx=\"2071.16\" cy=\"1293.84\" r=\"21\" fill=\"#47988b\" fill-rule=\"evenodd\" fill-opacity=\"1\" stroke=\"#000000\" stroke-opacity=\"1\" stroke-width=\"3.2\"/>\n",
       "<g clip-path=\"url(#clip2400)\">\n",
       "<text style=\"fill:#000000; fill-opacity:1; font-family:Arial,Helvetica Neue,Helvetica,sans-serif; font-size:48px; text-anchor:start;\" transform=\"rotate(0, 2155.16, 1311.34)\" x=\"2155.16\" y=\"1311.34\">y18</text>\n",
       "</g>\n",
       "<circle clip-path=\"url(#clip2400)\" cx=\"2071.16\" cy=\"1354.32\" r=\"21\" fill=\"#1ea68c\" fill-rule=\"evenodd\" fill-opacity=\"1\" stroke=\"#000000\" stroke-opacity=\"1\" stroke-width=\"3.2\"/>\n",
       "<g clip-path=\"url(#clip2400)\">\n",
       "<text style=\"fill:#000000; fill-opacity:1; font-family:Arial,Helvetica Neue,Helvetica,sans-serif; font-size:48px; text-anchor:start;\" transform=\"rotate(0, 2155.16, 1371.82)\" x=\"2155.16\" y=\"1371.82\">y19</text>\n",
       "</g>\n",
       "<circle clip-path=\"url(#clip2400)\" cx=\"2071.16\" cy=\"1414.8\" r=\"21\" fill=\"#af78dd\" fill-rule=\"evenodd\" fill-opacity=\"1\" stroke=\"#000000\" stroke-opacity=\"1\" stroke-width=\"3.2\"/>\n",
       "<g clip-path=\"url(#clip2400)\">\n",
       "<text style=\"fill:#000000; fill-opacity:1; font-family:Arial,Helvetica Neue,Helvetica,sans-serif; font-size:48px; text-anchor:start;\" transform=\"rotate(0, 2155.16, 1432.3)\" x=\"2155.16\" y=\"1432.3\">y20</text>\n",
       "</g>\n",
       "<circle clip-path=\"url(#clip2400)\" cx=\"2071.16\" cy=\"1475.28\" r=\"21\" fill=\"#868d87\" fill-rule=\"evenodd\" fill-opacity=\"1\" stroke=\"#000000\" stroke-opacity=\"1\" stroke-width=\"3.2\"/>\n",
       "<g clip-path=\"url(#clip2400)\">\n",
       "<text style=\"fill:#000000; fill-opacity:1; font-family:Arial,Helvetica Neue,Helvetica,sans-serif; font-size:48px; text-anchor:start;\" transform=\"rotate(0, 2155.16, 1492.78)\" x=\"2155.16\" y=\"1492.78\">y21</text>\n",
       "</g>\n",
       "<circle clip-path=\"url(#clip2400)\" cx=\"2071.16\" cy=\"1535.76\" r=\"21\" fill=\"#47a065\" fill-rule=\"evenodd\" fill-opacity=\"1\" stroke=\"#000000\" stroke-opacity=\"1\" stroke-width=\"3.2\"/>\n",
       "<g clip-path=\"url(#clip2400)\">\n",
       "<text style=\"fill:#000000; fill-opacity:1; font-family:Arial,Helvetica Neue,Helvetica,sans-serif; font-size:48px; text-anchor:start;\" transform=\"rotate(0, 2155.16, 1553.26)\" x=\"2155.16\" y=\"1553.26\">y22</text>\n",
       "</g>\n",
       "<circle clip-path=\"url(#clip2400)\" cx=\"2071.16\" cy=\"1596.24\" r=\"21\" fill=\"#7683af\" fill-rule=\"evenodd\" fill-opacity=\"1\" stroke=\"#000000\" stroke-opacity=\"1\" stroke-width=\"3.2\"/>\n",
       "<g clip-path=\"url(#clip2400)\">\n",
       "<text style=\"fill:#000000; fill-opacity:1; font-family:Arial,Helvetica Neue,Helvetica,sans-serif; font-size:48px; text-anchor:start;\" transform=\"rotate(0, 2155.16, 1613.74)\" x=\"2155.16\" y=\"1613.74\">y23</text>\n",
       "</g>\n",
       "<g clip-path=\"url(#clip2400)\">\n",
       "<text style=\"fill:#000000; fill-opacity:1; font-family:Arial,Helvetica Neue,Helvetica,sans-serif; font-size:48px; text-anchor:start;\" transform=\"rotate(0, 2155.16, 1674.22)\" x=\"2155.16\" y=\"1674.22\">y24</text>\n",
       "</g>\n",
       "<g clip-path=\"url(#clip2400)\">\n",
       "<text style=\"fill:#000000; fill-opacity:1; font-family:Arial,Helvetica Neue,Helvetica,sans-serif; font-size:48px; text-anchor:start;\" transform=\"rotate(0, 2155.16, 1734.7)\" x=\"2155.16\" y=\"1734.7\">y25</text>\n",
       "</g>\n",
       "<g clip-path=\"url(#clip2400)\">\n",
       "<text style=\"fill:#000000; fill-opacity:1; font-family:Arial,Helvetica Neue,Helvetica,sans-serif; font-size:48px; text-anchor:start;\" transform=\"rotate(0, 2155.16, 1795.18)\" x=\"2155.16\" y=\"1795.18\">y26</text>\n",
       "</g>\n",
       "<g clip-path=\"url(#clip2400)\">\n",
       "<text style=\"fill:#000000; fill-opacity:1; font-family:Arial,Helvetica Neue,Helvetica,sans-serif; font-size:48px; text-anchor:start;\" transform=\"rotate(0, 2155.16, 1855.66)\" x=\"2155.16\" y=\"1855.66\">y27</text>\n",
       "</g>\n",
       "<g clip-path=\"url(#clip2400)\">\n",
       "<text style=\"fill:#000000; fill-opacity:1; font-family:Arial,Helvetica Neue,Helvetica,sans-serif; font-size:48px; text-anchor:start;\" transform=\"rotate(0, 2155.16, 1916.14)\" x=\"2155.16\" y=\"1916.14\">y28</text>\n",
       "</g>\n",
       "<g clip-path=\"url(#clip2400)\">\n",
       "<text style=\"fill:#000000; fill-opacity:1; font-family:Arial,Helvetica Neue,Helvetica,sans-serif; font-size:48px; text-anchor:start;\" transform=\"rotate(0, 2155.16, 1976.62)\" x=\"2155.16\" y=\"1976.62\">y29</text>\n",
       "</g>\n",
       "<g clip-path=\"url(#clip2400)\">\n",
       "<text style=\"fill:#000000; fill-opacity:1; font-family:Arial,Helvetica Neue,Helvetica,sans-serif; font-size:48px; text-anchor:start;\" transform=\"rotate(0, 2155.16, 2037.1)\" x=\"2155.16\" y=\"2037.1\">y30</text>\n",
       "</g>\n",
       "<g clip-path=\"url(#clip2400)\">\n",
       "<text style=\"fill:#000000; fill-opacity:1; font-family:Arial,Helvetica Neue,Helvetica,sans-serif; font-size:48px; text-anchor:start;\" transform=\"rotate(0, 2155.16, 2097.58)\" x=\"2155.16\" y=\"2097.58\">y31</text>\n",
       "</g>\n",
       "<g clip-path=\"url(#clip2400)\">\n",
       "<text style=\"fill:#000000; fill-opacity:1; font-family:Arial,Helvetica Neue,Helvetica,sans-serif; font-size:48px; text-anchor:start;\" transform=\"rotate(0, 2155.16, 2158.06)\" x=\"2155.16\" y=\"2158.06\">y32</text>\n",
       "</g>\n",
       "<g clip-path=\"url(#clip2400)\">\n",
       "<text style=\"fill:#000000; fill-opacity:1; font-family:Arial,Helvetica Neue,Helvetica,sans-serif; font-size:48px; text-anchor:start;\" transform=\"rotate(0, 2155.16, 2218.54)\" x=\"2155.16\" y=\"2218.54\">y33</text>\n",
       "</g>\n",
       "<g clip-path=\"url(#clip2400)\">\n",
       "<text style=\"fill:#000000; fill-opacity:1; font-family:Arial,Helvetica Neue,Helvetica,sans-serif; font-size:48px; text-anchor:start;\" transform=\"rotate(0, 2155.16, 2279.02)\" x=\"2155.16\" y=\"2279.02\">y34</text>\n",
       "</g>\n",
       "<g clip-path=\"url(#clip2400)\">\n",
       "<text style=\"fill:#000000; fill-opacity:1; font-family:Arial,Helvetica Neue,Helvetica,sans-serif; font-size:48px; text-anchor:start;\" transform=\"rotate(0, 2155.16, 2339.5)\" x=\"2155.16\" y=\"2339.5\">y35</text>\n",
       "</g>\n",
       "<g clip-path=\"url(#clip2400)\">\n",
       "<text style=\"fill:#000000; fill-opacity:1; font-family:Arial,Helvetica Neue,Helvetica,sans-serif; font-size:48px; text-anchor:start;\" transform=\"rotate(0, 2155.16, 2399.98)\" x=\"2155.16\" y=\"2399.98\">y36</text>\n",
       "</g>\n",
       "<g clip-path=\"url(#clip2400)\">\n",
       "<text style=\"fill:#000000; fill-opacity:1; font-family:Arial,Helvetica Neue,Helvetica,sans-serif; font-size:48px; text-anchor:start;\" transform=\"rotate(0, 2155.16, 2460.46)\" x=\"2155.16\" y=\"2460.46\">y37</text>\n",
       "</g>\n",
       "<g clip-path=\"url(#clip2400)\">\n",
       "<text style=\"fill:#000000; fill-opacity:1; font-family:Arial,Helvetica Neue,Helvetica,sans-serif; font-size:48px; text-anchor:start;\" transform=\"rotate(0, 2155.16, 2520.94)\" x=\"2155.16\" y=\"2520.94\">y38</text>\n",
       "</g>\n",
       "<g clip-path=\"url(#clip2400)\">\n",
       "<text style=\"fill:#000000; fill-opacity:1; font-family:Arial,Helvetica Neue,Helvetica,sans-serif; font-size:48px; text-anchor:start;\" transform=\"rotate(0, 2155.16, 2581.42)\" x=\"2155.16\" y=\"2581.42\">y39</text>\n",
       "</g>\n",
       "<g clip-path=\"url(#clip2400)\">\n",
       "<text style=\"fill:#000000; fill-opacity:1; font-family:Arial,Helvetica Neue,Helvetica,sans-serif; font-size:48px; text-anchor:start;\" transform=\"rotate(0, 2155.16, 2641.9)\" x=\"2155.16\" y=\"2641.9\">y40</text>\n",
       "</g>\n",
       "<g clip-path=\"url(#clip2400)\">\n",
       "<text style=\"fill:#000000; fill-opacity:1; font-family:Arial,Helvetica Neue,Helvetica,sans-serif; font-size:48px; text-anchor:start;\" transform=\"rotate(0, 2155.16, 2702.38)\" x=\"2155.16\" y=\"2702.38\">y41</text>\n",
       "</g>\n",
       "<g clip-path=\"url(#clip2400)\">\n",
       "<text style=\"fill:#000000; fill-opacity:1; font-family:Arial,Helvetica Neue,Helvetica,sans-serif; font-size:48px; text-anchor:start;\" transform=\"rotate(0, 2155.16, 2762.86)\" x=\"2155.16\" y=\"2762.86\">y42</text>\n",
       "</g>\n",
       "<g clip-path=\"url(#clip2400)\">\n",
       "<text style=\"fill:#000000; fill-opacity:1; font-family:Arial,Helvetica Neue,Helvetica,sans-serif; font-size:48px; text-anchor:start;\" transform=\"rotate(0, 2155.16, 2823.34)\" x=\"2155.16\" y=\"2823.34\">y43</text>\n",
       "</g>\n",
       "<g clip-path=\"url(#clip2400)\">\n",
       "<text style=\"fill:#000000; fill-opacity:1; font-family:Arial,Helvetica Neue,Helvetica,sans-serif; font-size:48px; text-anchor:start;\" transform=\"rotate(0, 2155.16, 2883.82)\" x=\"2155.16\" y=\"2883.82\">y44</text>\n",
       "</g>\n",
       "<g clip-path=\"url(#clip2400)\">\n",
       "<text style=\"fill:#000000; fill-opacity:1; font-family:Arial,Helvetica Neue,Helvetica,sans-serif; font-size:48px; text-anchor:start;\" transform=\"rotate(0, 2155.16, 2944.3)\" x=\"2155.16\" y=\"2944.3\">y45</text>\n",
       "</g>\n",
       "<g clip-path=\"url(#clip2400)\">\n",
       "<text style=\"fill:#000000; fill-opacity:1; font-family:Arial,Helvetica Neue,Helvetica,sans-serif; font-size:48px; text-anchor:start;\" transform=\"rotate(0, 2155.16, 3004.78)\" x=\"2155.16\" y=\"3004.78\">y46</text>\n",
       "</g>\n",
       "<g clip-path=\"url(#clip2400)\">\n",
       "<text style=\"fill:#000000; fill-opacity:1; font-family:Arial,Helvetica Neue,Helvetica,sans-serif; font-size:48px; text-anchor:start;\" transform=\"rotate(0, 2155.16, 3065.26)\" x=\"2155.16\" y=\"3065.26\">y47</text>\n",
       "</g>\n",
       "<g clip-path=\"url(#clip2400)\">\n",
       "<text style=\"fill:#000000; fill-opacity:1; font-family:Arial,Helvetica Neue,Helvetica,sans-serif; font-size:48px; text-anchor:start;\" transform=\"rotate(0, 2155.16, 3125.74)\" x=\"2155.16\" y=\"3125.74\">y48</text>\n",
       "</g>\n",
       "<g clip-path=\"url(#clip2400)\">\n",
       "<text style=\"fill:#000000; fill-opacity:1; font-family:Arial,Helvetica Neue,Helvetica,sans-serif; font-size:48px; text-anchor:start;\" transform=\"rotate(0, 2155.16, 3186.22)\" x=\"2155.16\" y=\"3186.22\">y49</text>\n",
       "</g>\n",
       "<g clip-path=\"url(#clip2400)\">\n",
       "<text style=\"fill:#000000; fill-opacity:1; font-family:Arial,Helvetica Neue,Helvetica,sans-serif; font-size:48px; text-anchor:start;\" transform=\"rotate(0, 2155.16, 3246.7)\" x=\"2155.16\" y=\"3246.7\">y50</text>\n",
       "</g>\n",
       "</svg>\n"
      ]
     },
     "execution_count": 81,
     "metadata": {},
     "output_type": "execute_result"
    }
   ],
   "source": [
    "using Plots\n",
    "numRemoved = range(0, stop =49, length=50)\n",
    "scatter(numRemoved', errors)\n",
    "ylabel!(\"RMS error\")\n",
    "xlabel!(\"# Points removed\")\n",
    "title!(\"RMS error vs # Points removed\")"
   ]
  },
  {
   "cell_type": "code",
   "execution_count": null,
   "metadata": {},
   "outputs": [],
   "source": [
    "# According to the chart above, it appears as if 25 of the data\n",
    "# points have been corrupted, since RMS error appears constant after\n",
    "# 25 points with the largest error are removed"
   ]
  }
 ],
 "metadata": {
  "kernelspec": {
   "display_name": "Julia 1.3.1",
   "language": "julia",
   "name": "julia-1.3"
  },
  "language_info": {
   "file_extension": ".jl",
   "mimetype": "application/julia",
   "name": "julia",
   "version": "1.3.1"
  }
 },
 "nbformat": 4,
 "nbformat_minor": 2
}
